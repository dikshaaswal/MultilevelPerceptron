{
 "cells": [
  {
   "cell_type": "code",
   "execution_count": null,
   "metadata": {},
   "outputs": [],
   "source": [
    "# 1 hidden layer"
   ]
  },
  {
   "cell_type": "code",
   "execution_count": 13,
   "metadata": {},
   "outputs": [],
   "source": [
    "import numpy as np\n",
    "import pandas as pd\n",
    "import math\n",
    "import matplotlib.pyplot as plt\n",
    "import csv\n",
    "import random\n",
    "data = pd.read_csv(\"iris.data\", header = None)\n",
    "data = data.replace({'Iris-setosa': 0, 'Iris-versicolor': 1})\n",
    "r = list(range(100,150))\n",
    "data = data.drop(data.index[r])\n",
    "len(data)\n",
    "X = np.array(data)\n",
    "X=np.array(X,np.float32)\n"
   ]
  },
  {
   "cell_type": "code",
   "execution_count": 14,
   "metadata": {},
   "outputs": [],
   "source": [
    "#X = X[:,[2,3,4]] #drop first two columns \n",
    "Y = X[:,-1]\n",
    "X = X[:,[0,1,2,3]]\n",
    "Y = Y.reshape(len(Y),1)"
   ]
  },
  {
   "cell_type": "code",
   "execution_count": 15,
   "metadata": {},
   "outputs": [],
   "source": [
    "for i in range(0, len(X[0])):\n",
    "    X[:,i] = (X[:,i] - np.mean( X[:,i])) / (np.max(X[:,i] - np.min(X[:,i])))"
   ]
  },
  {
   "cell_type": "code",
   "execution_count": 16,
   "metadata": {},
   "outputs": [],
   "source": [
    "def sigmoid_function(x):\n",
    "    return (1.0/(1.0+np.exp(-1.0 * x)))"
   ]
  },
  {
   "cell_type": "code",
   "execution_count": 17,
   "metadata": {},
   "outputs": [],
   "source": [
    "def sigmoid_derivative(x):\n",
    "    return x*(1.0- x)"
   ]
  },
  {
   "cell_type": "code",
   "execution_count": 18,
   "metadata": {},
   "outputs": [
    {
     "data": {
      "text/plain": [
       "(100, 4)"
      ]
     },
     "execution_count": 18,
     "metadata": {},
     "output_type": "execute_result"
    }
   ],
   "source": [
    "X.shape"
   ]
  },
  {
   "cell_type": "code",
   "execution_count": 19,
   "metadata": {},
   "outputs": [],
   "source": [
    "def forward_propagation(no_of_epochs, X, weights_i, bias_i, weights_o, bias_o):\n",
    "    hidden_layer_input = np.dot(X, weights_i)\n",
    "    hidden_layer_input = hidden_layer_input + bias_i\n",
    "    \n",
    "    hidden_layer_activation = sigmoid_function(hidden_layer_input)\n",
    "    \n",
    "    output_layer_input = np.dot(hidden_layer_activation, weights_o)\n",
    "    output_layer_input = output_layer_input + bias_o\n",
    "    output = sigmoid_function(output_layer_input)\n",
    "    return output, hidden_layer_activation"
   ]
  },
  {
   "cell_type": "code",
   "execution_count": 20,
   "metadata": {},
   "outputs": [],
   "source": [
    "def geterror(Y, pred):\n",
    "    error = 0\n",
    "    for x in range(len(Y)):\n",
    "        a = np.array(pred[x])\n",
    "        b = np.array(Y[x])\n",
    "        #e = pred[x] - Y[x]\n",
    "        error = error + ((b-a)**2)\n",
    "    return (error/float(len(Y))) * 100.0\n",
    "        "
   ]
  },
  {
   "cell_type": "code",
   "execution_count": 21,
   "metadata": {},
   "outputs": [
    {
     "name": "stdout",
     "output_type": "stream",
     "text": [
      "predicted : [0.0028988191241792224], actual :[0.0]\n",
      "predicted : [0.0036694310840255286], actual :[0.0]\n",
      "predicted : [0.0029631796445040116], actual :[0.0]\n",
      "predicted : [0.003414024817332397], actual :[0.0]\n",
      "predicted : [0.0026995259312070584], actual :[0.0]\n",
      "predicted : [0.004102892862214779], actual :[0.0]\n",
      "predicted : [0.003069557194262737], actual :[0.0]\n",
      "predicted : [0.003166272020266885], actual :[0.0]\n",
      "predicted : [0.003450552048061168], actual :[0.0]\n",
      "predicted : [0.003249217376111544], actual :[0.0]\n",
      "predicted : [0.002952863563638144], actual :[0.0]\n",
      "predicted : [0.00320125611418638], actual :[0.0]\n",
      "predicted : [0.0031783323713642834], actual :[0.0]\n",
      "predicted : [0.0025644011363464723], actual :[0.0]\n",
      "predicted : [0.002356833603486561], actual :[0.0]\n",
      "predicted : [0.002789819446077982], actual :[0.0]\n",
      "predicted : [0.003015985796636788], actual :[0.0]\n",
      "predicted : [0.0032754819459054727], actual :[0.0]\n",
      "predicted : [0.004183759599259572], actual :[0.0]\n",
      "predicted : [0.002927998830844739], actual :[0.0]\n",
      "predicted : [0.004124239699689241], actual :[0.0]\n",
      "predicted : [0.0035740278924271357], actual :[0.0]\n",
      "predicted : [0.0021574203737999014], actual :[0.0]\n",
      "predicted : [0.007786559053581477], actual :[0.0]\n",
      "predicted : [0.0038811796279589576], actual :[0.0]\n",
      "predicted : [0.004365624114059793], actual :[0.0]\n",
      "predicted : [0.004645186197711714], actual :[0.0]\n",
      "predicted : [0.003143737696379377], actual :[0.0]\n",
      "predicted : [0.0031342207772196862], actual :[0.0]\n",
      "predicted : [0.003504290574413893], actual :[0.0]\n",
      "predicted : [0.003826263796473], actual :[0.0]\n",
      "predicted : [0.00514594640273369], actual :[0.0]\n",
      "predicted : [0.002136085476837284], actual :[0.0]\n",
      "predicted : [0.0022339988718440996], actual :[0.0]\n",
      "predicted : [0.003249217376111544], actual :[0.0]\n",
      "predicted : [0.002983267031842435], actual :[0.0]\n",
      "predicted : [0.003009743449443664], actual :[0.0]\n",
      "predicted : [0.003249217376111544], actual :[0.0]\n",
      "predicted : [0.00310464805434656], actual :[0.0]\n",
      "predicted : [0.003246295475194294], actual :[0.0]\n",
      "predicted : [0.0030057537814240382], actual :[0.0]\n",
      "predicted : [0.005636482874509569], actual :[0.0]\n",
      "predicted : [0.0028149750008292507], actual :[0.0]\n",
      "predicted : [0.006853640591474727], actual :[0.0]\n",
      "predicted : [0.004649020063477202], actual :[0.0]\n",
      "predicted : [0.004112984908099284], actual :[0.0]\n",
      "predicted : [0.0027595543388593546], actual :[0.0]\n",
      "predicted : [0.0030612580707372592], actual :[0.0]\n",
      "predicted : [0.0028810004311473846], actual :[0.0]\n",
      "predicted : [0.0031589847918422212], actual :[0.0]\n",
      "predicted : [0.9974878161706515], actual :[1.0]\n",
      "predicted : [0.9974186169466188], actual :[1.0]\n",
      "predicted : [0.9976385364375574], actual :[1.0]\n",
      "predicted : [0.997269842236268], actual :[1.0]\n",
      "predicted : [0.9976203245361206], actual :[1.0]\n",
      "predicted : [0.9973223993604491], actual :[1.0]\n",
      "predicted : [0.9975162248613276], actual :[1.0]\n",
      "predicted : [0.9907846488649993], actual :[1.0]\n",
      "predicted : [0.9974611580251257], actual :[1.0]\n",
      "predicted : [0.9969393194201824], actual :[1.0]\n",
      "predicted : [0.9952728690098877], actual :[1.0]\n",
      "predicted : [0.9973020068545352], actual :[1.0]\n",
      "predicted : [0.9970165679695424], actual :[1.0]\n",
      "predicted : [0.9975171341171877], actual :[1.0]\n",
      "predicted : [0.9962294741574885], actual :[1.0]\n",
      "predicted : [0.9973762220664332], actual :[1.0]\n",
      "predicted : [0.997403363979979], actual :[1.0]\n",
      "predicted : [0.9964502826873285], actual :[1.0]\n",
      "predicted : [0.9977468111967689], actual :[1.0]\n",
      "predicted : [0.9966012074741838], actual :[1.0]\n",
      "predicted : [0.9976626371356148], actual :[1.0]\n",
      "predicted : [0.9970923637775295], actual :[1.0]\n",
      "predicted : [0.9977657292250691], actual :[1.0]\n",
      "predicted : [0.9973970749015478], actual :[1.0]\n",
      "predicted : [0.9972898602089569], actual :[1.0]\n",
      "predicted : [0.997411590423778], actual :[1.0]\n",
      "predicted : [0.9976464827940628], actual :[1.0]\n",
      "predicted : [0.9977641619955124], actual :[1.0]\n",
      "predicted : [0.9975025879963293], actual :[1.0]\n",
      "predicted : [0.9949189046571187], actual :[1.0]\n",
      "predicted : [0.9965030371175161], actual :[1.0]\n",
      "predicted : [0.9958025963289648], actual :[1.0]\n",
      "predicted : [0.9967720632513247], actual :[1.0]\n",
      "predicted : [0.9977817088578165], actual :[1.0]\n",
      "predicted : [0.9973694805288372], actual :[1.0]\n",
      "predicted : [0.9973547746553585], actual :[1.0]\n",
      "predicted : [0.9975639570291167], actual :[1.0]\n",
      "predicted : [0.9975928031987384], actual :[1.0]\n",
      "predicted : [0.9968204333304567], actual :[1.0]\n",
      "predicted : [0.9971296480464825], actual :[1.0]\n",
      "predicted : [0.9972032655908071], actual :[1.0]\n",
      "predicted : [0.9974335780652017], actual :[1.0]\n",
      "predicted : [0.9969772792307825], actual :[1.0]\n",
      "predicted : [0.9924440258375951], actual :[1.0]\n",
      "predicted : [0.9971678238663699], actual :[1.0]\n",
      "predicted : [0.9967447635136586], actual :[1.0]\n",
      "predicted : [0.9970479099501567], actual :[1.0]\n",
      "predicted : [0.9972512442558421], actual :[1.0]\n",
      "predicted : [0.9905026730352077], actual :[1.0]\n",
      "predicted : [0.9970448893663525], actual :[1.0]\n",
      "error %:[0.001298865365648578]\n"
     ]
    }
   ],
   "source": [
    "no_of_epochs = 1000\n",
    "alpha = 1\n",
    "hiddenlayer_neurons = 3\n",
    "inputlayer_neurons = X.shape[1] #number of features\n",
    "output_neuron = 1\n",
    "weights_i = np.random.uniform(size = (inputlayer_neurons,hiddenlayer_neurons))\n",
    "bias_i =  np.random.uniform(size = (1,hiddenlayer_neurons))\n",
    "weights_o = np.random.uniform(size = (hiddenlayer_neurons,1))\n",
    "bias_o =  np.random.uniform(size = (1,output_neuron))\n",
    "\n",
    "for i in range(no_of_epochs):\n",
    "    output, hidden_layer_activation = forward_propagation(no_of_epochs, X, weights_i, bias_i, weights_o, bias_o)\n",
    "   \n",
    "    #back propagation\n",
    "    error = Y - output\n",
    "    slope_output_layer = sigmoid_derivative(output)\n",
    "    slope_hidden_layer = sigmoid_derivative(hidden_layer_activation)\n",
    "    #print(error.shape)\n",
    "    new_output = error*slope_output_layer\n",
    "    #print(new_output.shape)\n",
    "    error_at_hidden_layer = new_output.dot(weights_o.T)\n",
    "    \n",
    "    new_hidden_layer_input = error_at_hidden_layer*slope_hidden_layer\n",
    "    \n",
    "    weights_o = weights_o + np.dot(hidden_layer_activation.T, new_output)*alpha\n",
    "    weights_i = weights_i + np.dot(X.T, new_hidden_layer_input)*alpha\n",
    "    \n",
    "    bias_i = bias_i + np.sum(new_hidden_layer_input, axis = 0)*alpha\n",
    "    bias_o = bias_o + np.sum(new_output, axis = 0)*alpha\n",
    "   #almost same\n",
    "output = output.tolist()\n",
    "Y = Y.tolist()\n",
    "\n",
    "for i in range(len(output)):\n",
    "    print(\"predicted : \"+repr(output[i]) +', actual :'+repr(Y[i]))\n",
    "error = geterror(Y, output)\n",
    "\n",
    "print(\"error %:\" + repr(error.tolist()))"
   ]
  },
  {
   "cell_type": "code",
   "execution_count": null,
   "metadata": {},
   "outputs": [],
   "source": []
  },
  {
   "cell_type": "code",
   "execution_count": null,
   "metadata": {},
   "outputs": [],
   "source": []
  },
  {
   "cell_type": "code",
   "execution_count": null,
   "metadata": {},
   "outputs": [],
   "source": []
  }
 ],
 "metadata": {
  "kernelspec": {
   "display_name": "Python 3",
   "language": "python",
   "name": "python3"
  },
  "language_info": {
   "codemirror_mode": {
    "name": "ipython",
    "version": 3
   },
   "file_extension": ".py",
   "mimetype": "text/x-python",
   "name": "python",
   "nbconvert_exporter": "python",
   "pygments_lexer": "ipython3",
   "version": "3.6.5"
  }
 },
 "nbformat": 4,
 "nbformat_minor": 2
}
